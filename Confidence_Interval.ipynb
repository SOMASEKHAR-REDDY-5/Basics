{
  "nbformat": 4,
  "nbformat_minor": 0,
  "metadata": {
    "kernelspec": {
      "display_name": "Python 3",
      "language": "python",
      "name": "python3"
    },
    "language_info": {
      "codemirror_mode": {
        "name": "ipython",
        "version": 3
      },
      "file_extension": ".py",
      "mimetype": "text/x-python",
      "name": "python",
      "nbconvert_exporter": "python",
      "pygments_lexer": "ipython3",
      "version": "3.7.4"
    },
    "colab": {
      "provenance": []
    }
  },
  "cells": [
    {
      "cell_type": "code",
      "metadata": {
        "id": "POmm8nss1aLc"
      },
      "source": [
        "from scipy import stats\n",
        "import pandas as pd\n",
        "import numpy as np\n"
      ],
      "execution_count": null,
      "outputs": []
    },
    {
      "cell_type": "code",
      "source": [
        "from google.colab import files\n",
        "uploaded = files.upload()"
      ],
      "metadata": {
        "id": "NrwoI7h9EIDG"
      },
      "execution_count": null,
      "outputs": []
    },
    {
      "cell_type": "code",
      "metadata": {
        "id": "iKYR7-Ta1aLl",
        "colab": {
          "base_uri": "https://localhost:8080/"
        },
        "outputId": "e43503f3-7359-4f5c-cf77-c3bbb2673f97"
      },
      "source": [
        "#glaxo_df=pd.read_csv('https://raw.githubusercontent.com/slmsshk/DataSet/main/glaxo_df.csv')\n",
        "glaxo_df = pd.read_csv(\" \")\n",
        "glaxo_df_ci = stats.norm.interval(0.95,\n",
        "loc = glaxo_df.gain.mean(),\n",
        "scale = glaxo_df.gain.std())\n",
        "print( 'Mean at 95% confidence interval is:', np.round(glaxo_df_ci, 4))\n"
      ],
      "execution_count": null,
      "outputs": [
        {
          "output_type": "stream",
          "name": "stdout",
          "text": [
            "Mean at 95% confidence interval is: [-0.0258  0.0266]\n"
          ]
        }
      ]
    },
    {
      "cell_type": "code",
      "metadata": {
        "id": "iJP2zhHL1aLq",
        "colab": {
          "base_uri": "https://localhost:8080/"
        },
        "outputId": "2c235542-8b60-42a2-dcdc-e93b8ab72709"
      },
      "source": [
        "#beml_df=pd.read_csv('https://raw.githubusercontent.com/slmsshk/DataSet/main/beml_df.csv')\n",
        "beml_df= pd.read_csv(\" \")\n",
        "beml_df_ci =stats.norm.interval(0.95,loc=beml_df.gain.mean(),scale=beml_df.gain.std())\n",
        "print( 'Mean at 95% confidence interval is:', np.round(beml_df_ci, 4))"
      ],
      "execution_count": null,
      "outputs": [
        {
          "output_type": "stream",
          "name": "stdout",
          "text": [
            "Mean at 95% confidence interval is: [-0.0515  0.0521]\n"
          ]
        }
      ]
    },
    {
      "cell_type": "code",
      "metadata": {
        "id": "A-I7fYAx1aLr"
      },
      "source": [
        "from scipy import stats"
      ],
      "execution_count": null,
      "outputs": []
    },
    {
      "cell_type": "code",
      "source": [],
      "metadata": {
        "id": "3gkH2ZCkgPKy"
      },
      "execution_count": null,
      "outputs": []
    }
  ]
}